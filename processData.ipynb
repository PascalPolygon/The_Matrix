{
 "cells": [
  {
   "cell_type": "code",
   "execution_count": 27,
   "metadata": {},
   "outputs": [],
   "source": [
    "import numpy as np \n",
    ""
   ]
  },
  {
   "cell_type": "code",
   "execution_count": 2,
   "metadata": {},
   "outputs": [
    {
     "output_type": "stream",
     "name": "stdout",
     "text": "(871, 64, 15000)\n(436, 64, 15000)\n"
    }
   ],
   "source": [
    "training_data = np.load(\"./data/trmd_trn_data.npy\")\n",
    "testing_data = np.load(\"./data/trmd_tst_data.npy\")\n",
    "\n",
    "print(training_data.shape)\n",
    "print(testing_data.shape)"
   ]
  },
  {
   "cell_type": "markdown",
   "metadata": {},
   "source": [
    "Annotate runs between 3 and 6"
   ]
  },
  {
   "cell_type": "code",
   "execution_count": 20,
   "metadata": {},
   "outputs": [],
   "source": [
    "# print(training_data[2][:,0])\n",
    "# training_data[2][:,0] = [3]\n",
    "# print(training_data[2])\n",
    "def map_annotations(data):\n",
    "    for i in range(data.shape[0]):\n",
    "        task_class = data[i][0][0]\n",
    "        if task_class > 6 and task_class < 11:\n",
    "            data[i][:,0] = [task_class-4] #Remap to tasks between 3 and 6\n",
    "        elif task_class >= 11:\n",
    "            data[i][:,0] = [task_class-8] #Remap to tasks between 3 and 6\n",
    "    return data\n",
    ""
   ]
  },
  {
   "cell_type": "code",
   "execution_count": 21,
   "metadata": {},
   "outputs": [
    {
     "output_type": "stream",
     "name": "stdout",
     "text": "[5. 5. 5. 5. 5. 5. 5. 5. 5. 5. 5. 5. 5. 5. 5. 5. 5. 5. 5. 5. 5. 5. 5. 5.\n 5. 5. 5. 5. 5. 5. 5. 5. 5. 5. 5. 5. 5. 5. 5. 5. 5. 5. 5. 5. 5. 5. 5. 5.\n 5. 5. 5. 5. 5. 5. 5. 5. 5. 5. 5. 5. 5. 5. 5. 5.]\n[5. 5. 5. 5. 5. 5. 5. 5. 5. 5. 5. 5. 5. 5. 5. 5. 5. 5. 5. 5. 5. 5. 5. 5.\n 5. 5. 5. 5. 5. 5. 5. 5. 5. 5. 5. 5. 5. 5. 5. 5. 5. 5. 5. 5. 5. 5. 5. 5.\n 5. 5. 5. 5. 5. 5. 5. 5. 5. 5. 5. 5. 5. 5. 5. 5.]\n"
    }
   ],
   "source": [
    "print(training_data[5][:,0])\n",
    "mpd_trn_data = map_annotations(training_data)\n",
    "print(mpd_trn_data[5][:,0])\n",
    ""
   ]
  },
  {
   "cell_type": "code",
   "execution_count": 22,
   "metadata": {},
   "outputs": [
    {
     "output_type": "stream",
     "name": "stdout",
     "text": "[10. 10. 10. 10. 10. 10. 10. 10. 10. 10. 10. 10. 10. 10. 10. 10. 10. 10.\n 10. 10. 10. 10. 10. 10. 10. 10. 10. 10. 10. 10. 10. 10. 10. 10. 10. 10.\n 10. 10. 10. 10. 10. 10. 10. 10. 10. 10. 10. 10. 10. 10. 10. 10. 10. 10.\n 10. 10. 10. 10. 10. 10. 10. 10. 10. 10.]\n[6. 6. 6. 6. 6. 6. 6. 6. 6. 6. 6. 6. 6. 6. 6. 6. 6. 6. 6. 6. 6. 6. 6. 6.\n 6. 6. 6. 6. 6. 6. 6. 6. 6. 6. 6. 6. 6. 6. 6. 6. 6. 6. 6. 6. 6. 6. 6. 6.\n 6. 6. 6. 6. 6. 6. 6. 6. 6. 6. 6. 6. 6. 6. 6. 6.]\n"
    }
   ],
   "source": [
    "print(testing_data[5][:,0])\n",
    "mpd_tst_data = map_annotations(testing_data)\n",
    "print(mpd_tst_data[5][:,0])"
   ]
  },
  {
   "cell_type": "code",
   "execution_count": 26,
   "metadata": {
    "tags": [
     "outputPrepend",
     "outputPrepend",
     "outputPrepend",
     "outputPrepend"
    ]
   },
   "outputs": [],
   "source": [
    "# for i in range(mpd_trn_data.shape[0]):\n",
    "#     print(mpd_trn_data[i][:,0])\n",
    "np.save(\"./data/anntd_trn_data\", mpd_trn_data)\n",
    "np.save(\"./data/anntd_tst_data\", mpd_tst_data)"
   ]
  },
  {
   "cell_type": "code",
   "execution_count": 28,
   "metadata": {},
   "outputs": [
    {
     "output_type": "stream",
     "name": "stdout",
     "text": "(1308, 64, 15000)\n"
    }
   ],
   "source": [
    "data = np.load('./data/EEGData.npy')\n",
    "print(data.shape)"
   ]
  },
  {
   "cell_type": "code",
   "execution_count": 34,
   "metadata": {},
   "outputs": [
    {
     "output_type": "stream",
     "name": "stdout",
     "text": "[[   5. -191. -200. ...  165.  185.  168.]\n [   5. -193. -202. ...  165.  185.  168.]\n [   5. -191. -201. ...  157.  176.  157.]\n ...\n [   5. -280. -285. ...  234.  233.  225.]\n [   5.  -90.  -95. ...  114.  100.   92.]\n [   5. -149. -157. ...  108.  100.   93.]]\n"
    }
   ],
   "source": [
    "print(data[1307])"
   ]
  },
  {
   "cell_type": "code",
   "execution_count": 35,
   "metadata": {},
   "outputs": [
    {
     "output_type": "stream",
     "name": "stdout",
     "text": "[[  5.  -6.   0. ...  22.  16.  26.]\n [  5.   4.   7. ...  20.  15.  20.]\n [  5.   5.   8. ...  19.  14.  19.]\n ...\n [  5.  -2. -16. ...  16.  25.  23.]\n [  5.  12.   1. ...  21.  29.  29.]\n [  5.  14.   3. ...   7.  11.   4.]]\n[[  5.  -6.   0. ...  22.  16.  26.]\n [  5.   4.   7. ...  20.  15.  20.]\n [  5.   5.   8. ...  19.  14.  19.]\n ...\n [  5.  -2. -16. ...  16.  25.  23.]\n [  5.  12.   1. ...  21.  29.  29.]\n [  5.  14.   3. ...   7.  11.   4.]]\n"
    }
   ],
   "source": [
    "print(data[1])\n",
    "trmd_data = data[1:1308,:,:]\n",
    "print(trmd_data[0])"
   ]
  },
  {
   "cell_type": "code",
   "execution_count": 38,
   "metadata": {},
   "outputs": [
    {
     "output_type": "stream",
     "name": "stdout",
     "text": "[[  13.  -53.  -55. ...  -27.  -30.  -25.]\n [  13.  -41.  -43. ...  -25.  -30.  -24.]\n [  13.  -42.  -44. ...  -26.  -31.  -25.]\n ...\n [  13.    3.    7. ...   -1.    2.   21.]\n [  13. -129. -127. ...  -31.  -29.   -7.]\n [  13.  -43.  -42. ...  -21.  -23.   -8.]]\n[[   5.  -53.  -55. ...  -27.  -30.  -25.]\n [   5.  -41.  -43. ...  -25.  -30.  -24.]\n [   5.  -42.  -44. ...  -26.  -31.  -25.]\n ...\n [   5.    3.    7. ...   -1.    2.   21.]\n [   5. -129. -127. ...  -31.  -29.   -7.]\n [   5.  -43.  -42. ...  -21.  -23.   -8.]]\n"
    }
   ],
   "source": [
    "print(trmd_data[3])\n",
    "mpd_data = map_annotations(trmd_data)\n",
    "print(mpd_data[3])"
   ]
  },
  {
   "cell_type": "code",
   "execution_count": null,
   "metadata": {},
   "outputs": [],
   "source": [
    "np.save('./data/anntd_data', mpd_data)"
   ]
  }
 ],
 "metadata": {
  "language_info": {
   "name": "python",
   "codemirror_mode": {
    "name": "ipython",
    "version": 3
   },
   "version": "3.6.9-final"
  },
  "orig_nbformat": 2,
  "file_extension": ".py",
  "mimetype": "text/x-python",
  "name": "python",
  "npconvert_exporter": "python",
  "pygments_lexer": "ipython3",
  "version": 3,
  "kernelspec": {
   "name": "python36964bit38de1cc02df948d3b9a63469152fc45c",
   "display_name": "Python 3.6.9 64-bit"
  }
 },
 "nbformat": 4,
 "nbformat_minor": 2
}